{
 "cells": [
  {
   "cell_type": "code",
   "execution_count": null,
   "metadata": {
    "collapsed": true
   },
   "outputs": [],
   "source": [
    "import numpy as np\n",
    "import matplotlib.pyplot as plt\n",
    "%matplotlib inline\n",
    "import tensorflow as tf\n",
    "from gen_data import gen_data # gets the data for this project"
   ]
  },
  {
   "cell_type": "code",
   "execution_count": 2,
   "metadata": {
    "collapsed": false
   },
   "outputs": [],
   "source": [
    "RNNconfig = {\n",
    "    'num_steps' : 5,\n",
    "    'batch_size' : 200,\n",
    "    'state_size' :1,\n",
    "    'learning_rate' : 0.1\n",
    "}\n",
    "\n",
    "def set_config(new_config):\n",
    "    assert isinstance(new_config, dict), \"arg must be dict\" \n",
    "    if 'num_steps' in list(new_config.keys()):\n",
    "        RNNconfig['num_steps'] = new_config['num_steps']\n",
    "    if 'batch_size' in list(new_config.keys()):\n",
    "        RNNconfig['batch_size'] = new_config['batch_size']\n",
    "    if 'state_size' in list(new_config.keys()):\n",
    "        RNNconfig['state_size'] = new_config['state_size']\n",
    "    if 'learning_rate' in list(new_config.keys()):\n",
    "        RNNconfig['learning_rate'] = new_config['learning_rate']\n",
    "    for k, v in list(RNNconfig.items()):\n",
    "        print(\"{} : {}\".format(k, v))\n",
    "\n",
    "\n",
    "\n",
    "\n",
    "num_steps = 5\n",
    "batch_size = 200\n",
    "num_classes = 2\n",
    "state_size = 4\n",
    "learning_rate = 0.1"
   ]
  },
  {
   "cell_type": "code",
   "execution_count": 3,
   "metadata": {
    "collapsed": true
   },
   "outputs": [],
   "source": [
    "# adapted from https://github.com/tensorflow/tensorflow/blob/master/tensorflow/models/rnn/ptb/reader.py\n",
    "def gen_batch(raw_data, batch_size, num_steps):\n",
    "    raw_x, raw_y = raw_data\n",
    "    data_length = len(raw_x)\n",
    "\n",
    "    # partition raw data into batches and stack them vertically in a data matrix\n",
    "    batch_partition_length = data_length // batch_size\n",
    "    data_x = np.zeros([batch_size, batch_partition_length], dtype=np.int32)\n",
    "    data_y = np.zeros([batch_size, batch_partition_length], dtype=np.int32)\n",
    "    for i in range(batch_size):\n",
    "        data_x[i] = raw_x[batch_partition_length * i:batch_partition_length * (i + 1)]\n",
    "        data_y[i] = raw_y[batch_partition_length * i:batch_partition_length * (i + 1)]\n",
    "    # further divide batch partitions into num_steps for truncated backprop\n",
    "    epoch_size = batch_partition_length // num_steps\n",
    "\n",
    "    for i in range(epoch_size):\n",
    "        x = data_x[:, i * num_steps:(i + 1) * num_steps]\n",
    "        y = data_y[:, i * num_steps:(i + 1) * num_steps]\n",
    "        yield (x, y)\n",
    "\n",
    "def gen_epochs(n, num_steps):\n",
    "    for i in range(n):\n",
    "        yield gen_batch(gen_data(), batch_size, num_steps) # python trivia: why do we use yield instead of return here?"
   ]
  },
  {
   "cell_type": "code",
   "execution_count": 4,
   "metadata": {
    "collapsed": false
   },
   "outputs": [],
   "source": [
    "\"\"\"\n",
    "Placeholders\n",
    "\"\"\"\n",
    "\n",
    "x = tf.placeholder(tf.int32, [RNNconfig['batch_size'], RNNconfig['num_steps']], name='input_placeholder')\n",
    "y = tf.placeholder(tf.int32, [RNNconfig['batch_size'], RNNconfig['num_steps']], name='labels_placeholder')\n",
    "init_state = tf.zeros([RNNconfig['batch_size'], RNNconfig['state_size']])\n",
    "\n",
    "\"\"\"\n",
    "RNN Inputs\n",
    "\"\"\"\n",
    "\n",
    "# Turn our x placeholder into a list of one-hot tensors:\n",
    "# rnn_inputs is a list of num_steps tensors with shape [batch_size, num_classes]\n",
    "x_one_hot = tf.one_hot(x, num_classes) # note: num_classes is not an RNN variable...\n",
    "rnn_inputs = tf.unstack(x_one_hot, axis=1)"
   ]
  },
  {
   "cell_type": "code",
   "execution_count": 5,
   "metadata": {
    "collapsed": false
   },
   "outputs": [],
   "source": [
    "\"\"\"\n",
    "from __call__ method\n",
    "https://github.com/tensorflow/tensorflow/blob/master/tensorflow/contrib/rnn/python/ops/rnn_cell.py\n",
    "\"\"\"\n",
    "with tf.variable_scope('rnn_cell'):\n",
    "    W = tf.get_variable('W', [num_classes + RNNconfig['state_size'], RNNconfig['state_size']])\n",
    "    b = tf.get_variable('b', [RNNconfig['state_size']], initializer=tf.constant_initializer(0.0))\n",
    "\n",
    "def rnn_cell(rnn_input, state):\n",
    "    with tf.variable_scope('rnn_cell', reuse=True):\n",
    "        W = tf.get_variable('W', [num_classes + RNNconfig['state_size'], RNNconfig['state_size']])\n",
    "        b = tf.get_variable('b', [RNNconfig['state_size']], initializer=tf.constant_initializer(0.0))\n",
    "    return tf.tanh(tf.matmul(tf.concat([rnn_input, state], 1), W) + b)"
   ]
  },
  {
   "cell_type": "code",
   "execution_count": 6,
   "metadata": {
    "collapsed": false
   },
   "outputs": [],
   "source": [
    "\"\"\"\n",
    "https://github.com/tensorflow/tensorflow/blob/master/tensorflow/contrib/rnn/python/ops/rnn_cell.py\n",
    "\"\"\"\n",
    "state = init_state\n",
    "rnn_outputs = []\n",
    "for rnn_input in rnn_inputs:\n",
    "    state = rnn_cell(rnn_input, state)\n",
    "    rnn_outputs.append(state)\n",
    "final_state = rnn_outputs[-1]"
   ]
  },
  {
   "cell_type": "code",
   "execution_count": 7,
   "metadata": {
    "collapsed": true
   },
   "outputs": [],
   "source": [
    "\"\"\"\n",
    "https://github.com/tensorflow/tensorflow/blob/master/tensorflow/contrib/seq2seq/python/ops/loss.py#L30\n",
    "\"\"\"\n",
    "\n",
    "#logits and predictions\n",
    "with tf.variable_scope('softmax'):\n",
    "    W = tf.get_variable('W', [RNNconfig['state_size'], num_classes])\n",
    "    b = tf.get_variable('b', [num_classes], initializer=tf.constant_initializer(0.0))\n",
    "logits = [tf.matmul(rnn_output, W) + b for rnn_output in rnn_outputs]\n",
    "predictions = [tf.nn.softmax(logit) for logit in logits]\n",
    "\n",
    "# Turn our y placeholder into a list of labels\n",
    "y_as_list = tf.unstack(y, num=num_steps, axis=1)\n",
    "\n",
    "#losses and train_step\n",
    "losses = [tf.nn.sparse_softmax_cross_entropy_with_logits(labels=label, logits=logit) for \\\n",
    "          logit, label in zip(logits, y_as_list)]\n",
    "total_loss = tf.reduce_mean(losses)\n",
    "train_step = tf.train.AdagradOptimizer(learning_rate).minimize(total_loss)"
   ]
  },
  {
   "cell_type": "code",
   "execution_count": 8,
   "metadata": {
    "collapsed": false
   },
   "outputs": [],
   "source": [
    "\n",
    "def train_network(num_epochs, verbose=True):\n",
    "    \n",
    "    with tf.Session() as sess:\n",
    "        sess.run(tf.global_variables_initializer())\n",
    "        training_losses = []\n",
    "        for idx, epoch in enumerate(gen_epochs(num_epochs, RNNconfig['num_steps'])):\n",
    "            training_loss = 0\n",
    "            training_state = np.zeros((RNNconfig['batch_size'], RNNconfig['state_size']))\n",
    "            if verbose:\n",
    "                print(\"\\nEPOCH\", idx)\n",
    "            for step, (X, Y) in enumerate(epoch):\n",
    "                tr_losses, training_loss_, training_state, _ = \\\n",
    "                    sess.run([losses,\n",
    "                              total_loss,\n",
    "                              final_state,\n",
    "                              train_step],\n",
    "                                  feed_dict={x:X, y:Y, init_state:training_state})\n",
    "                training_loss += training_loss_\n",
    "                if step % 100 == 0 and step > 0:\n",
    "                    if verbose:\n",
    "                        print(\"Average loss at step\", step,\n",
    "                              \"for last 100 steps:\", training_loss/100)\n",
    "                    training_losses.append(training_loss/100)\n",
    "                    training_loss = 0\n",
    "\n",
    "    return training_losses"
   ]
  },
  {
   "cell_type": "code",
   "execution_count": 9,
   "metadata": {
    "collapsed": false
   },
   "outputs": [
    {
     "name": "stdout",
     "output_type": "stream",
     "text": [
      "\n",
      "EPOCH 0\n",
      "Average loss at step 100 for last 100 steps: 0.669509993792\n",
      "Average loss at step 200 for last 100 steps: 0.661844434142\n",
      "Average loss at step 300 for last 100 steps: 0.661094458699\n",
      "Average loss at step 400 for last 100 steps: 0.661340853572\n",
      "Average loss at step 500 for last 100 steps: 0.661560095549\n",
      "Average loss at step 600 for last 100 steps: 0.661784843206\n",
      "Average loss at step 700 for last 100 steps: 0.661147184968\n",
      "Average loss at step 800 for last 100 steps: 0.661213169098\n",
      "Average loss at step 900 for last 100 steps: 0.661346476674\n",
      "\n",
      "EPOCH 1\n",
      "Average loss at step 100 for last 100 steps: 0.668405897617\n",
      "Average loss at step 200 for last 100 steps: 0.662129837871\n",
      "Average loss at step 300 for last 100 steps: 0.662050071955\n",
      "Average loss at step 400 for last 100 steps: 0.662160313725\n",
      "Average loss at step 500 for last 100 steps: 0.661250349283\n",
      "Average loss at step 600 for last 100 steps: 0.660910141468\n",
      "Average loss at step 700 for last 100 steps: 0.662697259188\n",
      "Average loss at step 800 for last 100 steps: 0.661660057902\n",
      "Average loss at step 900 for last 100 steps: 0.662518411875\n",
      "\n",
      "EPOCH 2\n",
      "Average loss at step 100 for last 100 steps: 0.667921336889\n",
      "Average loss at step 200 for last 100 steps: 0.660830817819\n",
      "Average loss at step 300 for last 100 steps: 0.661869040728\n",
      "Average loss at step 400 for last 100 steps: 0.661022582054\n",
      "Average loss at step 500 for last 100 steps: 0.663050770164\n",
      "Average loss at step 600 for last 100 steps: 0.661524530053\n",
      "Average loss at step 700 for last 100 steps: 0.661837956309\n",
      "Average loss at step 800 for last 100 steps: 0.661909447908\n",
      "Average loss at step 900 for last 100 steps: 0.661392147541\n",
      "\n",
      "EPOCH 3\n",
      "Average loss at step 100 for last 100 steps: 0.668547788858\n",
      "Average loss at step 200 for last 100 steps: 0.662318508029\n",
      "Average loss at step 300 for last 100 steps: 0.662174600959\n",
      "Average loss at step 400 for last 100 steps: 0.662142978907\n",
      "Average loss at step 500 for last 100 steps: 0.662751507163\n",
      "Average loss at step 600 for last 100 steps: 0.663557801247\n",
      "Average loss at step 700 for last 100 steps: 0.66146389246\n",
      "Average loss at step 800 for last 100 steps: 0.660470768809\n",
      "Average loss at step 900 for last 100 steps: 0.661155326962\n",
      "\n",
      "EPOCH 4\n",
      "Average loss at step 100 for last 100 steps: 0.667632308006\n",
      "Average loss at step 200 for last 100 steps: 0.661839368343\n",
      "Average loss at step 300 for last 100 steps: 0.661721006632\n",
      "Average loss at step 400 for last 100 steps: 0.661625407338\n",
      "Average loss at step 500 for last 100 steps: 0.661859379411\n",
      "Average loss at step 600 for last 100 steps: 0.661470919847\n",
      "Average loss at step 700 for last 100 steps: 0.661525119543\n",
      "Average loss at step 800 for last 100 steps: 0.661878970861\n",
      "Average loss at step 900 for last 100 steps: 0.662040451765\n"
     ]
    },
    {
     "data": {
      "text/plain": [
       "[<matplotlib.lines.Line2D at 0x10e8bceb8>]"
      ]
     },
     "execution_count": 9,
     "metadata": {},
     "output_type": "execute_result"
    },
    {
     "data": {
      "image/png": "[encoded data removed]",
      "text/plain": [
       "<matplotlib.figure.Figure at 0x10e7a0da0>"
      ]
     },
     "metadata": {},
     "output_type": "display_data"
    }
   ],
   "source": [
    "\n",
    "training_losses = train_network(num_epochs = 5)\n",
    "plt.plot(training_losses)"
   ]
  },
  {
   "cell_type": "markdown",
   "metadata": {},
   "source": [
    "### Sources (and additional links for reading): \n",
    "\n",
    "1. https://r2rt.com/recurrent-neural-networks-in-tensorflow-i.html\n",
    "2. http://karpathy.github.io/2015/05/21/rnn-effectiveness/\n",
    "3. http://www.wildml.com/2015/09/recurrent-neural-networks-tutorial-part-1-introduction-to-rnns/"
   ]
  },
  {
   "cell_type": "code",
   "execution_count": null,
   "metadata": {
    "collapsed": true
   },
   "outputs": [],
   "source": []
  }
 ],
 "metadata": {
  "kernelspec": {
   "display_name": "Python 3",
   "language": "python",
   "name": "python3"
  },
  "language_info": {
   "codemirror_mode": {
    "name": "ipython",
    "version": 3
   },
   "file_extension": ".py",
   "mimetype": "text/x-python",
   "name": "python",
   "nbconvert_exporter": "python",
   "pygments_lexer": "ipython3",
   "version": "3.5.0"
  }
 },
 "nbformat": 4,
 "nbformat_minor": 2
}
