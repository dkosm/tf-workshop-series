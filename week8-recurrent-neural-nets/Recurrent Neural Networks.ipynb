{
 "cells": [
  {
   "cell_type": "code",
   "execution_count": null,
   "metadata": {
    "collapsed": true
   },
   "outputs": [],
   "source": [
    "import numpy as np\n",
    "import matplotlib.pyplot as plt\n",
    "%matplotlib inline\n",
    "import tensorflow as tf\n",
    "from gen_data import gen_data # gets the data for this project"
   ]
  },
  {
   "cell_type": "code",
   "execution_count": 2,
   "metadata": {
    "collapsed": false
   },
   "outputs": [],
   "source": [
    "RNNconfig = {\n",
    "    'num_steps' : 5,\n",
    "    'batch_size' : 200,\n",
    "    'state_size' :10,\n",
    "    'learning_rate' : 0.1\n",
    "}\n",
    "\n",
    "def set_config(new_config):\n",
    "    assert isinstance(new_config, dict), \"this got fucked up\"\n",
    "    if 'num_steps' in list(new_config.keys()):\n",
    "        RNNconfig['num_steps'] = new_config['num_steps']\n",
    "    if 'batch_size' in list(new_config.keys()):\n",
    "        RNNconfig['batch_size'] = new_config['batch_size']\n",
    "    if 'state_size' in list(new_config.keys()):\n",
    "        RNNconfig['state_size'] = new_config['state_size']\n",
    "    if 'learning_rate' in list(new_config.keys()):\n",
    "        RNNconfig['learning_rate'] = new_config['learning_rate']\n",
    "    for k, v in list(RNNconfig.items()):\n",
    "        print(\"{} : {}\".format(k, v))\n",
    "\n",
    "\n",
    "\n",
    "\n",
    "num_steps = 5\n",
    "batch_size = 200\n",
    "num_classes = 2\n",
    "state_size = 4\n",
    "learning_rate = 0.1"
   ]
  },
  {
   "cell_type": "code",
   "execution_count": 3,
   "metadata": {
    "collapsed": true
   },
   "outputs": [],
   "source": [
    "# adapted from https://github.com/tensorflow/tensorflow/blob/master/tensorflow/models/rnn/ptb/reader.py\n",
    "def gen_batch(raw_data, batch_size, num_steps):\n",
    "    raw_x, raw_y = raw_data\n",
    "    data_length = len(raw_x)\n",
    "\n",
    "    # partition raw data into batches and stack them vertically in a data matrix\n",
    "    batch_partition_length = data_length // batch_size\n",
    "    data_x = np.zeros([batch_size, batch_partition_length], dtype=np.int32)\n",
    "    data_y = np.zeros([batch_size, batch_partition_length], dtype=np.int32)\n",
    "    for i in range(batch_size):\n",
    "        data_x[i] = raw_x[batch_partition_length * i:batch_partition_length * (i + 1)]\n",
    "        data_y[i] = raw_y[batch_partition_length * i:batch_partition_length * (i + 1)]\n",
    "    # further divide batch partitions into num_steps for truncated backprop\n",
    "    epoch_size = batch_partition_length // num_steps\n",
    "\n",
    "    for i in range(epoch_size):\n",
    "        x = data_x[:, i * num_steps:(i + 1) * num_steps]\n",
    "        y = data_y[:, i * num_steps:(i + 1) * num_steps]\n",
    "        yield (x, y)\n",
    "\n",
    "def gen_epochs(n, num_steps):\n",
    "    for i in range(n):\n",
    "        yield gen_batch(gen_data(), batch_size, num_steps) # python trivia: why do we use yield instead of return here?"
   ]
  },
  {
   "cell_type": "code",
   "execution_count": 4,
   "metadata": {
    "collapsed": false
   },
   "outputs": [],
   "source": [
    "\"\"\"\n",
    "Placeholders\n",
    "\"\"\"\n",
    "\n",
    "x = tf.placeholder(tf.int32, [RNNconfig['batch_size'], RNNconfig['num_steps']], name='input_placeholder')\n",
    "y = tf.placeholder(tf.int32, [RNNconfig['batch_size'], RNNconfig['num_steps']], name='labels_placeholder')\n",
    "init_state = tf.zeros([RNNconfig['batch_size'], RNNconfig['state_size']])\n",
    "\n",
    "\"\"\"\n",
    "RNN Inputs\n",
    "\"\"\"\n",
    "\n",
    "# Turn our x placeholder into a list of one-hot tensors:\n",
    "# rnn_inputs is a list of num_steps tensors with shape [batch_size, num_classes]\n",
    "x_one_hot = tf.one_hot(x, num_classes) # note: num_classes is not an RNN variable...\n",
    "rnn_inputs = tf.unstack(x_one_hot, axis=1)"
   ]
  },
  {
   "cell_type": "code",
   "execution_count": 5,
   "metadata": {
    "collapsed": false
   },
   "outputs": [],
   "source": [
    "\"\"\"\n",
    "Definition of rnn_cell\n",
    "\n",
    "This is very similar to the __call__ method on Tensorflow's BasicRNNCell. See:\n",
    "https://github.com/tensorflow/tensorflow/blob/master/tensorflow/contrib/rnn/python/ops/core_rnn_cell_impl.py#L95\n",
    "\"\"\"\n",
    "with tf.variable_scope('rnn_cell'):\n",
    "    W = tf.get_variable('W', [num_classes + RNNconfig['state_size'], RNNconfig['state_size']])\n",
    "    b = tf.get_variable('b', [RNNconfig['state_size']], initializer=tf.constant_initializer(0.0))\n",
    "\n",
    "def rnn_cell(rnn_input, state):\n",
    "    with tf.variable_scope('rnn_cell', reuse=True):\n",
    "        W = tf.get_variable('W', [num_classes + RNNconfig['state_size'], RNNconfig['state_size']])\n",
    "        b = tf.get_variable('b', [RNNconfig['state_size']], initializer=tf.constant_initializer(0.0))\n",
    "    return tf.tanh(tf.matmul(tf.concat([rnn_input, state], 1), W) + b)"
   ]
  },
  {
   "cell_type": "code",
   "execution_count": 6,
   "metadata": {
    "collapsed": false
   },
   "outputs": [],
   "source": [
    "\"\"\"\n",
    "https://github.com/tensorflow/tensorflow/blob/master/tensorflow/python/ops/rnn.py#L390\n",
    "\"\"\"\n",
    "state = init_state\n",
    "rnn_outputs = []\n",
    "for rnn_input in rnn_inputs:\n",
    "    state = rnn_cell(rnn_input, state)\n",
    "    rnn_outputs.append(state)\n",
    "final_state = rnn_outputs[-1]"
   ]
  },
  {
   "cell_type": "code",
   "execution_count": 7,
   "metadata": {
    "collapsed": true
   },
   "outputs": [],
   "source": [
    "\"\"\"\n",
    "Predictions, loss, training step\n",
    "\n",
    "Losses is similar to the \"sequence_loss\"\n",
    "function from Tensorflow's API, except that here we are using a list of 2D tensors, instead of a 3D tensor. See:\n",
    "https://github.com/tensorflow/tensorflow/blob/master/tensorflow/contrib/seq2seq/python/ops/loss.py#L30\n",
    "\"\"\"\n",
    "\n",
    "#logits and predictions\n",
    "with tf.variable_scope('softmax'):\n",
    "    W = tf.get_variable('W', [RNNconfig['state_size'], num_classes])\n",
    "    b = tf.get_variable('b', [num_classes], initializer=tf.constant_initializer(0.0))\n",
    "logits = [tf.matmul(rnn_output, W) + b for rnn_output in rnn_outputs]\n",
    "predictions = [tf.nn.softmax(logit) for logit in logits]\n",
    "\n",
    "# Turn our y placeholder into a list of labels\n",
    "y_as_list = tf.unstack(y, num=num_steps, axis=1)\n",
    "\n",
    "#losses and train_step\n",
    "losses = [tf.nn.sparse_softmax_cross_entropy_with_logits(labels=label, logits=logit) for \\\n",
    "          logit, label in zip(logits, y_as_list)]\n",
    "total_loss = tf.reduce_mean(losses)\n",
    "train_step = tf.train.AdagradOptimizer(learning_rate).minimize(total_loss)"
   ]
  },
  {
   "cell_type": "code",
   "execution_count": 16,
   "metadata": {
    "collapsed": false
   },
   "outputs": [],
   "source": [
    "\"\"\"\n",
    "Train the network\n",
    "\"\"\"\n",
    "\n",
    "def train_network(num_epochs, verbose=True):\n",
    "    \n",
    "    with tf.Session() as sess:\n",
    "        sess.run(tf.global_variables_initializer())\n",
    "        training_losses = []\n",
    "        for idx, epoch in enumerate(gen_epochs(num_epochs, RNNconfig['num_steps'])):\n",
    "            training_loss = 0\n",
    "            training_state = np.zeros((RNNconfig['batch_size'], RNNconfig['state_size']))\n",
    "            if verbose:\n",
    "                print(\"\\nEPOCH\", idx)\n",
    "            for step, (X, Y) in enumerate(epoch):\n",
    "                tr_losses, training_loss_, training_state, _ = \\\n",
    "                    sess.run([losses,\n",
    "                              total_loss,\n",
    "                              final_state,\n",
    "                              train_step],\n",
    "                                  feed_dict={x:X, y:Y, init_state:training_state})\n",
    "                training_loss += training_loss_\n",
    "                if step % 100 == 0 and step > 0:\n",
    "                    if verbose:\n",
    "                        print(\"Average loss at step\", step,\n",
    "                              \"for last 250 steps:\", training_loss/100)\n",
    "                    training_losses.append(training_loss/100)\n",
    "                    training_loss = 0\n",
    "\n",
    "    return training_losses"
   ]
  },
  {
   "cell_type": "code",
   "execution_count": null,
   "metadata": {
    "collapsed": false
   },
   "outputs": [
    {
     "name": "stdout",
     "output_type": "stream",
     "text": [
      "\n",
      "EPOCH 0\n",
      "Average loss at step 100 for last 250 steps: 0.523917446434\n",
      "Average loss at step 200 for last 250 steps: 0.484009670019\n",
      "Average loss at step 300 for last 250 steps: 0.485345494449\n",
      "Average loss at step 400 for last 250 steps: 0.482012071013\n",
      "Average loss at step 500 for last 250 steps: 0.480749159157\n",
      "Average loss at step 600 for last 250 steps: 0.480657583475\n",
      "Average loss at step 700 for last 250 steps: 0.481982642114\n",
      "Average loss at step 800 for last 250 steps: 0.479737412333\n",
      "Average loss at step 900 for last 250 steps: 0.479863205552\n",
      "\n",
      "EPOCH 1\n",
      "Average loss at step 100 for last 250 steps: 0.485699080527\n",
      "Average loss at step 200 for last 250 steps: 0.482067203224\n",
      "Average loss at step 300 for last 250 steps: 0.479910998642\n",
      "Average loss at step 400 for last 250 steps: 0.482670047581\n",
      "Average loss at step 500 for last 250 steps: 0.479920632839\n",
      "Average loss at step 600 for last 250 steps: 0.480360489488\n",
      "Average loss at step 700 for last 250 steps: 0.481010148823\n",
      "Average loss at step 800 for last 250 steps: 0.482027018964\n",
      "Average loss at step 900 for last 250 steps: 0.480037098527\n",
      "\n",
      "EPOCH 2\n",
      "Average loss at step 100 for last 250 steps: 0.489396602213\n",
      "Average loss at step 200 for last 250 steps: 0.478992046714\n",
      "Average loss at step 300 for last 250 steps: 0.480355601311\n",
      "Average loss at step 400 for last 250 steps: 0.481816829741\n",
      "Average loss at step 500 for last 250 steps: 0.477464843392\n",
      "Average loss at step 600 for last 250 steps: 0.480321678817\n",
      "Average loss at step 700 for last 250 steps: 0.478171509206\n",
      "Average loss at step 800 for last 250 steps: 0.476874634922\n",
      "Average loss at step 900 for last 250 steps: 0.478701806366\n",
      "\n",
      "EPOCH 3\n",
      "Average loss at step 100 for last 250 steps: 0.486090406477\n",
      "Average loss at step 200 for last 250 steps: 0.476761793196\n",
      "Average loss at step 300 for last 250 steps: 0.476019042134\n",
      "Average loss at step 400 for last 250 steps: 0.474545953572\n",
      "Average loss at step 500 for last 250 steps: 0.472266786397\n",
      "Average loss at step 600 for last 250 steps: 0.47598028481\n",
      "Average loss at step 700 for last 250 steps: 0.474465307891\n",
      "Average loss at step 800 for last 250 steps: 0.47416388005\n",
      "Average loss at step 900 for last 250 steps: 0.473384946883\n",
      "\n",
      "EPOCH 4\n",
      "Average loss at step 100 for last 250 steps: 0.48040643692\n",
      "Average loss at step 200 for last 250 steps: 0.470988319218\n",
      "Average loss at step 300 for last 250 steps: 0.47122903049\n",
      "Average loss at step 400 for last 250 steps: 0.47182513386\n",
      "Average loss at step 500 for last 250 steps: 0.472481432259\n",
      "Average loss at step 600 for last 250 steps: 0.471812596619\n",
      "Average loss at step 700 for last 250 steps: 0.469779083431\n"
     ]
    }
   ],
   "source": [
    "\n",
    "training_losses = train_network(num_epochs = 5)\n",
    "plt.plot(training_losses)"
   ]
  },
  {
   "cell_type": "code",
   "execution_count": null,
   "metadata": {
    "collapsed": true
   },
   "outputs": [],
   "source": []
  }
 ],
 "metadata": {
  "kernelspec": {
   "display_name": "Python 3",
   "language": "python",
   "name": "python3"
  },
  "language_info": {
   "codemirror_mode": {
    "name": "ipython",
    "version": 3
   },
   "file_extension": ".py",
   "mimetype": "text/x-python",
   "name": "python",
   "nbconvert_exporter": "python",
   "pygments_lexer": "ipython3",
   "version": "3.5.0"
  }
 },
 "nbformat": 4,
 "nbformat_minor": 2
}
